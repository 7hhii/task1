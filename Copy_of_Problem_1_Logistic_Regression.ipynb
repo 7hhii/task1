{
  "cells": [
    {
      "cell_type": "markdown",
      "id": "ff1ae8e4",
      "metadata": {
        "papermill": {
          "duration": 0.035503,
          "end_time": "2021-10-26T13:17:08.070946",
          "exception": false,
          "start_time": "2021-10-26T13:17:08.035443",
          "status": "completed"
        },
        "tags": [],
        "id": "ff1ae8e4"
      },
      "source": [
        "### Importing needed libaries\n",
        "\n",
        "\n"
      ]
    },
    {
      "cell_type": "markdown",
      "source": [
        "Task 1 - Iris"
      ],
      "metadata": {
        "id": "j-HiouMSAFcV"
      },
      "id": "j-HiouMSAFcV"
    },
    {
      "cell_type": "markdown",
      "source": [
        " The Iris dataset is one of the most famous datasets used in the field of machine learning and statistics for classification and pattern recognition tasks."
      ],
      "metadata": {
        "id": "-masO1kS7Me9"
      },
      "id": "-masO1kS7Me9"
    },
    {
      "cell_type": "code",
      "execution_count": null,
      "id": "4a3169ba",
      "metadata": {
        "_cell_guid": "b1076dfc-b9ad-4769-8c92-a6c4dae69d19",
        "_uuid": "8f2839f25d086af736a60e9eeb907d3b93b6e0e5",
        "execution": {
          "iopub.execute_input": "2021-10-26T13:17:08.137330Z",
          "iopub.status.busy": "2021-10-26T13:17:08.135744Z",
          "iopub.status.idle": "2021-10-26T13:17:09.130185Z",
          "shell.execute_reply": "2021-10-26T13:17:09.130683Z",
          "shell.execute_reply.started": "2021-10-26T13:14:46.961642Z"
        },
        "papermill": {
          "duration": 1.02919,
          "end_time": "2021-10-26T13:17:09.131001",
          "exception": false,
          "start_time": "2021-10-26T13:17:08.101811",
          "status": "completed"
        },
        "tags": [],
        "id": "4a3169ba"
      },
      "outputs": [],
      "source": [
        "import numpy as np # linear algebra\n",
        "import pandas as pd # data processing, CSV file I/O (e.g. pd.read_csv)\n",
        "import matplotlib.pyplot as plt # data plotting\n",
        "import os"
      ]
    },
    {
      "cell_type": "markdown",
      "id": "5f9c4b64",
      "metadata": {
        "_kg_hide-input": false,
        "papermill": {
          "duration": 0.029555,
          "end_time": "2021-10-26T13:17:09.322136",
          "exception": false,
          "start_time": "2021-10-26T13:17:09.292581",
          "status": "completed"
        },
        "tags": [],
        "id": "5f9c4b64"
      },
      "source": [
        "### Load Training Data and model creation"
      ]
    },
    {
      "cell_type": "code",
      "source": [
        "!wget --no-check-certificate 'https://www.dropbox.com/scl/fi/gn42yc7dvnjs80ehtfcma/pb1_train.csv?rlkey=32d02hh7rqnv27mkv3b75ytdv&dl=0' -O ./data_train.csv"
      ],
      "metadata": {
        "colab": {
          "base_uri": "https://localhost:8080/"
        },
        "id": "6gE1psQvAZ2L",
        "outputId": "cdac84db-19e3-4215-f1a9-67aff2337b17"
      },
      "id": "6gE1psQvAZ2L",
      "execution_count": null,
      "outputs": [
        {
          "output_type": "stream",
          "name": "stdout",
          "text": [
            "--2024-03-01 06:31:15--  https://www.dropbox.com/scl/fi/gn42yc7dvnjs80ehtfcma/pb1_train.csv?rlkey=32d02hh7rqnv27mkv3b75ytdv&dl=0\n",
            "Resolving www.dropbox.com (www.dropbox.com)... 162.125.4.18, 2620:100:6019:18::a27d:412\n",
            "Connecting to www.dropbox.com (www.dropbox.com)|162.125.4.18|:443... connected.\n",
            "HTTP request sent, awaiting response... 302 Found\n",
            "Location: https://uc62bbfd836dd4982a14e87b66e9.dl.dropboxusercontent.com/cd/0/inline/CONHewoC0sskvHEyZMQf-3FhAGo-hYkvcQm0eRT7GJ0Wq_kVrUW-rjS0OtDWrBrHonUIPoqxso6ZTgHdXmoqQVjUZGHW1gNJlwqTBC37ezhUWiijt6XzMxOffacmvR6edijNDYBDts6hPuT3CliKqfWp/file# [following]\n",
            "--2024-03-01 06:31:15--  https://uc62bbfd836dd4982a14e87b66e9.dl.dropboxusercontent.com/cd/0/inline/CONHewoC0sskvHEyZMQf-3FhAGo-hYkvcQm0eRT7GJ0Wq_kVrUW-rjS0OtDWrBrHonUIPoqxso6ZTgHdXmoqQVjUZGHW1gNJlwqTBC37ezhUWiijt6XzMxOffacmvR6edijNDYBDts6hPuT3CliKqfWp/file\n",
            "Resolving uc62bbfd836dd4982a14e87b66e9.dl.dropboxusercontent.com (uc62bbfd836dd4982a14e87b66e9.dl.dropboxusercontent.com)... 162.125.4.15, 2620:100:6019:15::a27d:40f\n",
            "Connecting to uc62bbfd836dd4982a14e87b66e9.dl.dropboxusercontent.com (uc62bbfd836dd4982a14e87b66e9.dl.dropboxusercontent.com)|162.125.4.15|:443... connected.\n",
            "HTTP request sent, awaiting response... 200 OK\n",
            "Length: 2737 (2.7K) [text/plain]\n",
            "Saving to: ‘./data_train.csv’\n",
            "\n",
            "./data_train.csv    100%[===================>]   2.67K  --.-KB/s    in 0s      \n",
            "\n",
            "2024-03-01 06:31:16 (1.06 GB/s) - ‘./data_train.csv’ saved [2737/2737]\n",
            "\n"
          ]
        }
      ]
    },
    {
      "cell_type": "code",
      "execution_count": null,
      "id": "5dc021f5",
      "metadata": {
        "execution": {
          "iopub.execute_input": "2021-10-26T13:17:09.385369Z",
          "iopub.status.busy": "2021-10-26T13:17:09.384683Z",
          "iopub.status.idle": "2021-10-26T13:17:09.416492Z",
          "shell.execute_reply": "2021-10-26T13:17:09.417049Z",
          "shell.execute_reply.started": "2021-10-26T13:14:47.931781Z"
        },
        "papermill": {
          "duration": 0.065162,
          "end_time": "2021-10-26T13:17:09.417245",
          "exception": false,
          "start_time": "2021-10-26T13:17:09.352083",
          "status": "completed"
        },
        "tags": [],
        "id": "5dc021f5"
      },
      "outputs": [],
      "source": [
        "#importing the data\n",
        "data = pd.read_csv('data_train.csv')"
      ]
    },
    {
      "cell_type": "code",
      "source": [
        "import numpy as np\n",
        "import pandas as pd\n",
        "from sklearn.preprocessing import StandardScaler\n",
        "from sklearn.model_selection import train_test_split\n",
        "from sklearn.metrics import accuracy_score\n"
      ],
      "metadata": {
        "id": "Qm_7kchI3Z0M"
      },
      "id": "Qm_7kchI3Z0M",
      "execution_count": null,
      "outputs": []
    },
    {
      "cell_type": "code",
      "source": [
        "data = data.sample(frac=1).reset_index(drop=True)"
      ],
      "metadata": {
        "id": "7pYYYF0J3jM0"
      },
      "id": "7pYYYF0J3jM0",
      "execution_count": null,
      "outputs": []
    },
    {
      "cell_type": "code",
      "source": [
        "# Load Iris dataset\n",
        "iris = load_iris()\n",
        "X = iris.data\n",
        "y = iris.target\n",
        "\n",
        "# Randomize Iris dataset\n",
        "indices = np.arange(X.shape[0])\n",
        "np.random.shuffle(indices)\n",
        "X = X[indices]"
      ],
      "metadata": {
        "id": "V0yvlaZ23qFO"
      },
      "id": "V0yvlaZ23qFO",
      "execution_count": null,
      "outputs": []
    },
    {
      "cell_type": "code",
      "source": [
        "class CustomLogisticRegression:\n",
        "    def __init__(self, learning_rate=0.0898, num_iterations=500, regularization_strength=0.11):\n",
        "        self.learning_rate = learning_rate\n",
        "        self.num_iterations = num_iterations\n",
        "        self.regularization_strength = regularization_strength\n",
        "        self.weights = None\n",
        "        self.bias = None\n",
        "\n",
        "    def _sigmoid(self, z):\n",
        "        return 1 / (1 + np.exp(-z))\n",
        "\n",
        "    def _compute_cost(self, X, y):\n",
        "        m = X.shape[0]\n",
        "        z = np.dot(X, self.weights) + self.bias\n",
        "        y_pred = self._sigmoid(z)\n",
        "        cost = (-1 / m) * np.sum(y * np.log(y_pred) + (1 - y) * np.log(1 - y_pred))\n",
        "        # Add regularization term to the cost\n",
        "        regularization_term = (self.regularization_strength / (2 * m)) * np.sum(self.weights ** 2)\n",
        "        return cost + regularization_term\n",
        "\n",
        "    def fit(self, X, y):\n",
        "        m, n = X.shape\n",
        "        self.weights = np.zeros(n)\n",
        "        self.bias = 0\n",
        "\n",
        "        for i in range(self.num_iterations):\n",
        "            z = np.dot(X, self.weights) + self.bias\n",
        "            y_pred = self._sigmoid(z)\n",
        "\n",
        "            dw = (1 / m) * np.dot(X.T, (y_pred - y)) + (self.regularization_strength / m) * self.weights\n",
        "            db = (1 / m) * np.sum(y_pred - y)\n",
        "\n",
        "            self.weights -= self.learning_rate * dw\n",
        "            self.bias -= self.learning_rate * db\n",
        "\n",
        "            # Print cost for every 100 iterations\n",
        "            if i % 100 == 0:\n",
        "                cost = self._compute_cost(X, y)\n",
        "                print(f\"Iteration {i}: Cost = {cost:.4f}\")\n",
        "\n",
        "    def predict(self, X):\n",
        "        z = np.dot(X, self.weights) + self.bias\n",
        "        y_pred = self._sigmoid(z)\n",
        "        return (y_pred > 0.5).astype(int)"
      ],
      "metadata": {
        "id": "MOudlrr33eKU"
      },
      "id": "MOudlrr33eKU",
      "execution_count": null,
      "outputs": []
    },
    {
      "cell_type": "code",
      "source": [
        "# Extract features and target variable\n",
        "X = data.drop(columns=['species'])\n",
        "y = (data['species'] == 'setosa').astype(int)  # Convert species to binary label\n",
        "\n",
        "# Split the dataset into training and testing sets\n",
        "X_train, X_test, y_train, y_test = train_test_split(X, y, test_size=0.2, random_state=42)\n"
      ],
      "metadata": {
        "id": "fMWBiuBW385k"
      },
      "id": "fMWBiuBW385k",
      "execution_count": null,
      "outputs": []
    },
    {
      "cell_type": "code",
      "source": [
        "\n",
        "# Standardize the features\n",
        "scaler = StandardScaler()\n",
        "X_train_scaled = scaler.fit_transform(X_train)\n",
        "X_test_scaled = scaler.transform(X_test)\n",
        "\n",
        "# Hyperparameters for fine-tuning\n",
        "learning_rate =0.0898\n",
        "num_iterations = 500\n",
        "regularization_strength = 0.11\n",
        "\n",
        "# Instantiate and train the custom logistic regression model\n",
        "model = CustomLogisticRegression(learning_rate=learning_rate, num_iterations=num_iterations,\n",
        "                                 regularization_strength=regularization_strength)\n",
        "model.fit(X_train_scaled, y_train)\n",
        "\n",
        "# Predictions\n",
        "y_pred_train = model.predict(X_train_scaled)\n",
        "y_pred_test = model.predict(X_test_scaled)\n",
        "\n"
      ],
      "metadata": {
        "colab": {
          "base_uri": "https://localhost:8080/"
        },
        "id": "HfkCkjmKqeOL",
        "outputId": "070e1ed2-7218-47fa-f933-5f9ae61ed506"
      },
      "id": "HfkCkjmKqeOL",
      "execution_count": null,
      "outputs": [
        {
          "output_type": "stream",
          "name": "stdout",
          "text": [
            "Iteration 0: Cost = 0.6709\n",
            "Iteration 100: Cost = 0.1171\n",
            "Iteration 200: Cost = 0.0594\n",
            "Iteration 300: Cost = 0.0393\n",
            "Iteration 400: Cost = 0.0293\n"
          ]
        }
      ]
    },
    {
      "cell_type": "code",
      "source": [
        "# Calculate training and testing accuracy\n",
        "\n",
        "accuracy_train = accuracy_score(y_train, y_pred_train)\n",
        "accuracy_test = accuracy_score(y_test, y_pred_test)\n",
        "print(f\"Training Accuracy: {accuracy_train:.4f}\")\n",
        "print(f\"Testing Accuracy: {accuracy_test:.4f}\")\n"
      ],
      "metadata": {
        "id": "xtb7Fpg133Cj",
        "colab": {
          "base_uri": "https://localhost:8080/"
        },
        "outputId": "99cb06e7-0552-4f2e-d5ab-f0d24344ef3b"
      },
      "id": "xtb7Fpg133Cj",
      "execution_count": null,
      "outputs": [
        {
          "output_type": "stream",
          "name": "stdout",
          "text": [
            "Training Accuracy: 1.0000\n",
            "Testing Accuracy: 1.0000\n"
          ]
        }
      ]
    },
    {
      "cell_type": "markdown",
      "id": "c69aa8b2",
      "metadata": {
        "_uuid": "49b6528fbb4cb2d19bd1d379327618631707c4a7",
        "papermill": {
          "duration": 0.03881,
          "end_time": "2021-10-26T13:17:09.487754",
          "exception": false,
          "start_time": "2021-10-26T13:17:09.448944",
          "status": "completed"
        },
        "tags": [],
        "id": "c69aa8b2"
      },
      "source": [
        "### Inspect and analyse the data"
      ]
    },
    {
      "cell_type": "code",
      "execution_count": null,
      "id": "2a17c671",
      "metadata": {
        "_cell_guid": "79c7e3d0-c299-4dcb-8224-4455121ee9b0",
        "_uuid": "d629ff2d2480ee46fbb7e2d37f6b5fab8052498a",
        "execution": {
          "iopub.execute_input": "2021-10-26T13:17:09.582051Z",
          "iopub.status.busy": "2021-10-26T13:17:09.581262Z",
          "iopub.status.idle": "2021-10-26T13:17:09.601006Z",
          "shell.execute_reply": "2021-10-26T13:17:09.601811Z",
          "shell.execute_reply.started": "2021-10-26T13:14:47.972781Z"
        },
        "papermill": {
          "duration": 0.069864,
          "end_time": "2021-10-26T13:17:09.602099",
          "exception": false,
          "start_time": "2021-10-26T13:17:09.532235",
          "status": "completed"
        },
        "tags": [],
        "id": "2a17c671",
        "outputId": "bb363dfd-129f-4b7f-94a3-a91d171a5318",
        "colab": {
          "base_uri": "https://localhost:8080/",
          "height": 206
        }
      },
      "outputs": [
        {
          "output_type": "execute_result",
          "data": {
            "text/plain": [
              "   sepal_length  sepal_width  petal_length  petal_width     species\n",
              "0           6.7          3.1           4.4          1.4  not Setosa\n",
              "1           5.4          3.4           1.7          0.2      Setosa\n",
              "2           5.8          2.7           3.9          1.2  not Setosa\n",
              "3           7.7          3.8           6.7          2.2  not Setosa\n",
              "4           5.4          3.9           1.7          0.4      Setosa"
            ],
            "text/html": [
              "\n",
              "  <div id=\"df-c4da9ab1-bf67-4137-965d-a6790df8daa3\" class=\"colab-df-container\">\n",
              "    <div>\n",
              "<style scoped>\n",
              "    .dataframe tbody tr th:only-of-type {\n",
              "        vertical-align: middle;\n",
              "    }\n",
              "\n",
              "    .dataframe tbody tr th {\n",
              "        vertical-align: top;\n",
              "    }\n",
              "\n",
              "    .dataframe thead th {\n",
              "        text-align: right;\n",
              "    }\n",
              "</style>\n",
              "<table border=\"1\" class=\"dataframe\">\n",
              "  <thead>\n",
              "    <tr style=\"text-align: right;\">\n",
              "      <th></th>\n",
              "      <th>sepal_length</th>\n",
              "      <th>sepal_width</th>\n",
              "      <th>petal_length</th>\n",
              "      <th>petal_width</th>\n",
              "      <th>species</th>\n",
              "    </tr>\n",
              "  </thead>\n",
              "  <tbody>\n",
              "    <tr>\n",
              "      <th>0</th>\n",
              "      <td>6.7</td>\n",
              "      <td>3.1</td>\n",
              "      <td>4.4</td>\n",
              "      <td>1.4</td>\n",
              "      <td>not Setosa</td>\n",
              "    </tr>\n",
              "    <tr>\n",
              "      <th>1</th>\n",
              "      <td>5.4</td>\n",
              "      <td>3.4</td>\n",
              "      <td>1.7</td>\n",
              "      <td>0.2</td>\n",
              "      <td>Setosa</td>\n",
              "    </tr>\n",
              "    <tr>\n",
              "      <th>2</th>\n",
              "      <td>5.8</td>\n",
              "      <td>2.7</td>\n",
              "      <td>3.9</td>\n",
              "      <td>1.2</td>\n",
              "      <td>not Setosa</td>\n",
              "    </tr>\n",
              "    <tr>\n",
              "      <th>3</th>\n",
              "      <td>7.7</td>\n",
              "      <td>3.8</td>\n",
              "      <td>6.7</td>\n",
              "      <td>2.2</td>\n",
              "      <td>not Setosa</td>\n",
              "    </tr>\n",
              "    <tr>\n",
              "      <th>4</th>\n",
              "      <td>5.4</td>\n",
              "      <td>3.9</td>\n",
              "      <td>1.7</td>\n",
              "      <td>0.4</td>\n",
              "      <td>Setosa</td>\n",
              "    </tr>\n",
              "  </tbody>\n",
              "</table>\n",
              "</div>\n",
              "    <div class=\"colab-df-buttons\">\n",
              "\n",
              "  <div class=\"colab-df-container\">\n",
              "    <button class=\"colab-df-convert\" onclick=\"convertToInteractive('df-c4da9ab1-bf67-4137-965d-a6790df8daa3')\"\n",
              "            title=\"Convert this dataframe to an interactive table.\"\n",
              "            style=\"display:none;\">\n",
              "\n",
              "  <svg xmlns=\"http://www.w3.org/2000/svg\" height=\"24px\" viewBox=\"0 -960 960 960\">\n",
              "    <path d=\"M120-120v-720h720v720H120Zm60-500h600v-160H180v160Zm220 220h160v-160H400v160Zm0 220h160v-160H400v160ZM180-400h160v-160H180v160Zm440 0h160v-160H620v160ZM180-180h160v-160H180v160Zm440 0h160v-160H620v160Z\"/>\n",
              "  </svg>\n",
              "    </button>\n",
              "\n",
              "  <style>\n",
              "    .colab-df-container {\n",
              "      display:flex;\n",
              "      gap: 12px;\n",
              "    }\n",
              "\n",
              "    .colab-df-convert {\n",
              "      background-color: #E8F0FE;\n",
              "      border: none;\n",
              "      border-radius: 50%;\n",
              "      cursor: pointer;\n",
              "      display: none;\n",
              "      fill: #1967D2;\n",
              "      height: 32px;\n",
              "      padding: 0 0 0 0;\n",
              "      width: 32px;\n",
              "    }\n",
              "\n",
              "    .colab-df-convert:hover {\n",
              "      background-color: #E2EBFA;\n",
              "      box-shadow: 0px 1px 2px rgba(60, 64, 67, 0.3), 0px 1px 3px 1px rgba(60, 64, 67, 0.15);\n",
              "      fill: #174EA6;\n",
              "    }\n",
              "\n",
              "    .colab-df-buttons div {\n",
              "      margin-bottom: 4px;\n",
              "    }\n",
              "\n",
              "    [theme=dark] .colab-df-convert {\n",
              "      background-color: #3B4455;\n",
              "      fill: #D2E3FC;\n",
              "    }\n",
              "\n",
              "    [theme=dark] .colab-df-convert:hover {\n",
              "      background-color: #434B5C;\n",
              "      box-shadow: 0px 1px 3px 1px rgba(0, 0, 0, 0.15);\n",
              "      filter: drop-shadow(0px 1px 2px rgba(0, 0, 0, 0.3));\n",
              "      fill: #FFFFFF;\n",
              "    }\n",
              "  </style>\n",
              "\n",
              "    <script>\n",
              "      const buttonEl =\n",
              "        document.querySelector('#df-c4da9ab1-bf67-4137-965d-a6790df8daa3 button.colab-df-convert');\n",
              "      buttonEl.style.display =\n",
              "        google.colab.kernel.accessAllowed ? 'block' : 'none';\n",
              "\n",
              "      async function convertToInteractive(key) {\n",
              "        const element = document.querySelector('#df-c4da9ab1-bf67-4137-965d-a6790df8daa3');\n",
              "        const dataTable =\n",
              "          await google.colab.kernel.invokeFunction('convertToInteractive',\n",
              "                                                    [key], {});\n",
              "        if (!dataTable) return;\n",
              "\n",
              "        const docLinkHtml = 'Like what you see? Visit the ' +\n",
              "          '<a target=\"_blank\" href=https://colab.research.google.com/notebooks/data_table.ipynb>data table notebook</a>'\n",
              "          + ' to learn more about interactive tables.';\n",
              "        element.innerHTML = '';\n",
              "        dataTable['output_type'] = 'display_data';\n",
              "        await google.colab.output.renderOutput(dataTable, element);\n",
              "        const docLink = document.createElement('div');\n",
              "        docLink.innerHTML = docLinkHtml;\n",
              "        element.appendChild(docLink);\n",
              "      }\n",
              "    </script>\n",
              "  </div>\n",
              "\n",
              "\n",
              "<div id=\"df-d308f790-f434-424a-85ba-cb0067d9d50e\">\n",
              "  <button class=\"colab-df-quickchart\" onclick=\"quickchart('df-d308f790-f434-424a-85ba-cb0067d9d50e')\"\n",
              "            title=\"Suggest charts\"\n",
              "            style=\"display:none;\">\n",
              "\n",
              "<svg xmlns=\"http://www.w3.org/2000/svg\" height=\"24px\"viewBox=\"0 0 24 24\"\n",
              "     width=\"24px\">\n",
              "    <g>\n",
              "        <path d=\"M19 3H5c-1.1 0-2 .9-2 2v14c0 1.1.9 2 2 2h14c1.1 0 2-.9 2-2V5c0-1.1-.9-2-2-2zM9 17H7v-7h2v7zm4 0h-2V7h2v10zm4 0h-2v-4h2v4z\"/>\n",
              "    </g>\n",
              "</svg>\n",
              "  </button>\n",
              "\n",
              "<style>\n",
              "  .colab-df-quickchart {\n",
              "      --bg-color: #E8F0FE;\n",
              "      --fill-color: #1967D2;\n",
              "      --hover-bg-color: #E2EBFA;\n",
              "      --hover-fill-color: #174EA6;\n",
              "      --disabled-fill-color: #AAA;\n",
              "      --disabled-bg-color: #DDD;\n",
              "  }\n",
              "\n",
              "  [theme=dark] .colab-df-quickchart {\n",
              "      --bg-color: #3B4455;\n",
              "      --fill-color: #D2E3FC;\n",
              "      --hover-bg-color: #434B5C;\n",
              "      --hover-fill-color: #FFFFFF;\n",
              "      --disabled-bg-color: #3B4455;\n",
              "      --disabled-fill-color: #666;\n",
              "  }\n",
              "\n",
              "  .colab-df-quickchart {\n",
              "    background-color: var(--bg-color);\n",
              "    border: none;\n",
              "    border-radius: 50%;\n",
              "    cursor: pointer;\n",
              "    display: none;\n",
              "    fill: var(--fill-color);\n",
              "    height: 32px;\n",
              "    padding: 0;\n",
              "    width: 32px;\n",
              "  }\n",
              "\n",
              "  .colab-df-quickchart:hover {\n",
              "    background-color: var(--hover-bg-color);\n",
              "    box-shadow: 0 1px 2px rgba(60, 64, 67, 0.3), 0 1px 3px 1px rgba(60, 64, 67, 0.15);\n",
              "    fill: var(--button-hover-fill-color);\n",
              "  }\n",
              "\n",
              "  .colab-df-quickchart-complete:disabled,\n",
              "  .colab-df-quickchart-complete:disabled:hover {\n",
              "    background-color: var(--disabled-bg-color);\n",
              "    fill: var(--disabled-fill-color);\n",
              "    box-shadow: none;\n",
              "  }\n",
              "\n",
              "  .colab-df-spinner {\n",
              "    border: 2px solid var(--fill-color);\n",
              "    border-color: transparent;\n",
              "    border-bottom-color: var(--fill-color);\n",
              "    animation:\n",
              "      spin 1s steps(1) infinite;\n",
              "  }\n",
              "\n",
              "  @keyframes spin {\n",
              "    0% {\n",
              "      border-color: transparent;\n",
              "      border-bottom-color: var(--fill-color);\n",
              "      border-left-color: var(--fill-color);\n",
              "    }\n",
              "    20% {\n",
              "      border-color: transparent;\n",
              "      border-left-color: var(--fill-color);\n",
              "      border-top-color: var(--fill-color);\n",
              "    }\n",
              "    30% {\n",
              "      border-color: transparent;\n",
              "      border-left-color: var(--fill-color);\n",
              "      border-top-color: var(--fill-color);\n",
              "      border-right-color: var(--fill-color);\n",
              "    }\n",
              "    40% {\n",
              "      border-color: transparent;\n",
              "      border-right-color: var(--fill-color);\n",
              "      border-top-color: var(--fill-color);\n",
              "    }\n",
              "    60% {\n",
              "      border-color: transparent;\n",
              "      border-right-color: var(--fill-color);\n",
              "    }\n",
              "    80% {\n",
              "      border-color: transparent;\n",
              "      border-right-color: var(--fill-color);\n",
              "      border-bottom-color: var(--fill-color);\n",
              "    }\n",
              "    90% {\n",
              "      border-color: transparent;\n",
              "      border-bottom-color: var(--fill-color);\n",
              "    }\n",
              "  }\n",
              "</style>\n",
              "\n",
              "  <script>\n",
              "    async function quickchart(key) {\n",
              "      const quickchartButtonEl =\n",
              "        document.querySelector('#' + key + ' button');\n",
              "      quickchartButtonEl.disabled = true;  // To prevent multiple clicks.\n",
              "      quickchartButtonEl.classList.add('colab-df-spinner');\n",
              "      try {\n",
              "        const charts = await google.colab.kernel.invokeFunction(\n",
              "            'suggestCharts', [key], {});\n",
              "      } catch (error) {\n",
              "        console.error('Error during call to suggestCharts:', error);\n",
              "      }\n",
              "      quickchartButtonEl.classList.remove('colab-df-spinner');\n",
              "      quickchartButtonEl.classList.add('colab-df-quickchart-complete');\n",
              "    }\n",
              "    (() => {\n",
              "      let quickchartButtonEl =\n",
              "        document.querySelector('#df-d308f790-f434-424a-85ba-cb0067d9d50e button');\n",
              "      quickchartButtonEl.style.display =\n",
              "        google.colab.kernel.accessAllowed ? 'block' : 'none';\n",
              "    })();\n",
              "  </script>\n",
              "</div>\n",
              "\n",
              "    </div>\n",
              "  </div>\n"
            ],
            "application/vnd.google.colaboratory.intrinsic+json": {
              "type": "dataframe",
              "variable_name": "data",
              "summary": "{\n  \"name\": \"data\",\n  \"rows\": 105,\n  \"fields\": [\n    {\n      \"column\": \"sepal_length\",\n      \"properties\": {\n        \"dtype\": \"number\",\n        \"std\": 0.8631094226445889,\n        \"min\": 4.3,\n        \"max\": 7.9,\n        \"num_unique_values\": 34,\n        \"samples\": [\n          4.4,\n          4.9,\n          7.6\n        ],\n        \"semantic_type\": \"\",\n        \"description\": \"\"\n      }\n    },\n    {\n      \"column\": \"sepal_width\",\n      \"properties\": {\n        \"dtype\": \"number\",\n        \"std\": 0.4442077361106094,\n        \"min\": 2.0,\n        \"max\": 4.4,\n        \"num_unique_values\": 21,\n        \"samples\": [\n          3.1,\n          2.6,\n          2.4\n        ],\n        \"semantic_type\": \"\",\n        \"description\": \"\"\n      }\n    },\n    {\n      \"column\": \"petal_length\",\n      \"properties\": {\n        \"dtype\": \"number\",\n        \"std\": 1.839822017192167,\n        \"min\": 1.0,\n        \"max\": 6.9,\n        \"num_unique_values\": 40,\n        \"samples\": [\n          3.8,\n          5.0,\n          3.0\n        ],\n        \"semantic_type\": \"\",\n        \"description\": \"\"\n      }\n    },\n    {\n      \"column\": \"petal_width\",\n      \"properties\": {\n        \"dtype\": \"number\",\n        \"std\": 0.7743601872731446,\n        \"min\": 0.1,\n        \"max\": 2.5,\n        \"num_unique_values\": 20,\n        \"samples\": [\n          1.4,\n          1.5,\n          0.1\n        ],\n        \"semantic_type\": \"\",\n        \"description\": \"\"\n      }\n    },\n    {\n      \"column\": \"species\",\n      \"properties\": {\n        \"dtype\": \"category\",\n        \"num_unique_values\": 2,\n        \"samples\": [\n          \"Setosa\",\n          \"not Setosa\"\n        ],\n        \"semantic_type\": \"\",\n        \"description\": \"\"\n      }\n    }\n  ]\n}"
            }
          },
          "metadata": {},
          "execution_count": 20
        }
      ],
      "source": [
        "data.head()"
      ]
    },
    {
      "source": [
        "# @title species\n",
        "\n",
        "from matplotlib import pyplot as plt\n",
        "import seaborn as sns\n",
        "data.groupby('species').size().plot(kind='barh', color=sns.palettes.mpl_palette('Dark2'))\n",
        "plt.gca().spines[['top', 'right',]].set_visible(False)"
      ],
      "cell_type": "code",
      "execution_count": null,
      "outputs": [
        {
          "output_type": "display_data",
          "data": {
            "text/plain": [
              "<Figure size 640x480 with 1 Axes>"
            ],
            "image/png": "[encoded data removed]"
          },
          "metadata": {}
        }
      ],
      "metadata": {
        "colab": {
          "base_uri": "https://localhost:8080/",
          "height": 430
        },
        "id": "oNWA7TpZEF4u",
        "outputId": "8dc468c4-1366-4f33-f96e-eeadd36030f2"
      },
      "id": "oNWA7TpZEF4u"
    },
    {
      "cell_type": "code",
      "source": [
        "from matplotlib import pyplot as plt\n",
        "\n",
        "# Filter the dataset for 'setosa' species\n",
        "setosa_data = data[data['species'] == 'Setosa']\n",
        "\n",
        "# Plot histogram of petal length for 'setosa' species\n",
        "setosa_data['petal_length'].plot(kind='hist', bins=20, title='Petal Length Distribution for Setosa')\n",
        "plt.gca().spines[['top', 'right']].set_visible(False)\n",
        "plt.xlabel('Petal Length')\n",
        "plt.ylabel('Frequency')\n",
        "plt.show()\n"
      ],
      "metadata": {
        "colab": {
          "base_uri": "https://localhost:8080/",
          "height": 472
        },
        "id": "rQNy6Lmcz47s",
        "outputId": "8495bead-f263-4f2a-f221-68b75f0d797d"
      },
      "id": "rQNy6Lmcz47s",
      "execution_count": null,
      "outputs": [
        {
          "output_type": "display_data",
          "data": {
            "text/plain": [
              "<Figure size 640x480 with 1 Axes>"
            ],
            "image/png": "[encoded data removed]"
          },
          "metadata": {}
        }
      ]
    },
    {
      "source": [
        "# @title petal_width\n",
        "\n",
        "from matplotlib import pyplot as plt\n",
        "data['petal_width'].plot(kind='hist', bins=20, title='petal_width')\n",
        "plt.gca().spines[['top', 'right',]].set_visible(False)"
      ],
      "cell_type": "code",
      "execution_count": null,
      "outputs": [
        {
          "output_type": "display_data",
          "data": {
            "text/plain": [
              "<Figure size 640x480 with 1 Axes>"
            ],
            "image/png": "[encoded data removed]"
          },
          "metadata": {}
        }
      ],
      "metadata": {
        "colab": {
          "base_uri": "https://localhost:8080/",
          "height": 452
        },
        "id": "QRiybvbXEAx1",
        "outputId": "a9ba2e6b-af55-4cb5-d9cc-dd206551ab9a"
      },
      "id": "QRiybvbXEAx1"
    },
    {
      "cell_type": "code",
      "source": [
        "from matplotlib import pyplot as plt\n",
        "data['sepal_width'].plot(kind='hist', bins=20, title='sepal_width')\n",
        "plt.gca().spines[['top', 'right',]].set_visible(False)"
      ],
      "metadata": {
        "id": "vL4CdEuhEimE",
        "colab": {
          "base_uri": "https://localhost:8080/",
          "height": 452
        },
        "outputId": "832a5f60-de02-4c59-f337-2cd00a3099b9"
      },
      "id": "vL4CdEuhEimE",
      "execution_count": null,
      "outputs": [
        {
          "output_type": "display_data",
          "data": {
            "text/plain": [
              "<Figure size 640x480 with 1 Axes>"
            ],
            "image/png": "[encoded data removed]"
          },
          "metadata": {}
        }
      ]
    },
    {
      "cell_type": "code",
      "source": [
        "from matplotlib import pyplot as plt\n",
        "data['sepal_length'].plot(kind='hist', bins=20, title='sepal_length')\n",
        "plt.gca().spines[['top', 'right',]].set_visible(False)"
      ],
      "metadata": {
        "id": "odDw6FGkFDcj",
        "colab": {
          "base_uri": "https://localhost:8080/",
          "height": 452
        },
        "outputId": "5c32ac7b-e4b1-422f-a05f-a8317b3b7f07"
      },
      "id": "odDw6FGkFDcj",
      "execution_count": null,
      "outputs": [
        {
          "output_type": "display_data",
          "data": {
            "text/plain": [
              "<Figure size 640x480 with 1 Axes>"
            ],
            "image/png": "[encoded data removed]"
          },
          "metadata": {}
        }
      ]
    },
    {
      "cell_type": "code",
      "source": [
        "from matplotlib import pyplot as plt\n",
        "data['petal_length'].plot(kind='hist', bins=20, title='petal_length')\n",
        "plt.gca().spines[['top', 'right',]].set_visible(False)"
      ],
      "metadata": {
        "id": "sJOYJ4evEqZo",
        "colab": {
          "base_uri": "https://localhost:8080/",
          "height": 452
        },
        "outputId": "179b8c13-ed66-4d07-8db4-a70d96000594"
      },
      "id": "sJOYJ4evEqZo",
      "execution_count": null,
      "outputs": [
        {
          "output_type": "display_data",
          "data": {
            "text/plain": [
              "<Figure size 640x480 with 1 Axes>"
            ],
            "image/png": "[encoded data removed]"
          },
          "metadata": {}
        }
      ]
    },
    {
      "cell_type": "code",
      "source": [
        "from matplotlib import pyplot as plt\n",
        "\n",
        "# Filter the dataset for 'setosa' species\n",
        "setosa_data = data[data['species'] != 'Setosa']\n",
        "\n",
        "# Plot histograms for all features\n",
        "fig, axs = plt.subplots(2, 2, figsize=(12, 8))\n",
        "\n",
        "# Plot histogram for sepal length\n",
        "axs[0, 0].hist(setosa_data['sepal_length'], bins=20, color='skyblue')\n",
        "axs[0, 0].set_title('Sepal Length')\n",
        "\n",
        "# Plot histogram for sepal width\n",
        "axs[0, 1].hist(setosa_data['sepal_width'], bins=20, color='salmon')\n",
        "axs[0, 1].set_title('Sepal Width')\n",
        "\n",
        "# Plot histogram for petal length\n",
        "axs[1, 0].hist(setosa_data['petal_length'], bins=20, color='green')\n",
        "axs[1, 0].set_title('Petal Length')\n",
        "\n",
        "# Plot histogram for petal width\n",
        "axs[1, 1].hist(setosa_data['petal_width'], bins=20, color='gold')\n",
        "axs[1, 1].set_title('Petal Width')\n",
        "\n",
        "# Remove top and right spines\n",
        "for ax in axs.flat:\n",
        "    ax.spines[['top', 'right']].set_visible(False)\n",
        "\n",
        "# Adjust layout\n",
        "plt.tight_layout()\n",
        "\n",
        "# Show the plot\n",
        "plt.show()\n"
      ],
      "metadata": {
        "colab": {
          "base_uri": "https://localhost:8080/",
          "height": 807
        },
        "id": "exaQDkUN0h7Y",
        "outputId": "8778cd5f-4137-4252-defa-cde3fae835bd"
      },
      "id": "exaQDkUN0h7Y",
      "execution_count": null,
      "outputs": [
        {
          "output_type": "display_data",
          "data": {
            "text/plain": [
              "<Figure size 1200x800 with 4 Axes>"
            ],
            "image/png": "[encoded data removed]"
          },
          "metadata": {}
        }
      ]
    },
    {
      "cell_type": "code",
      "source": [
        "from matplotlib import pyplot as plt\n",
        "\n",
        "# Filter the dataset for 'setosa' species\n",
        "setosa_data = data[data['species'] == 'Setosa']\n",
        "\n",
        "# Plot histograms for all features\n",
        "fig, axs = plt.subplots(2, 2, figsize=(12, 8))\n",
        "\n",
        "# Plot histogram for sepal length\n",
        "axs[0, 0].hist(setosa_data['sepal_length'], bins=20, color='skyblue')\n",
        "axs[0, 0].set_title('Sepal Length')\n",
        "\n",
        "# Plot histogram for sepal width\n",
        "axs[0, 1].hist(setosa_data['sepal_width'], bins=20, color='salmon')\n",
        "axs[0, 1].set_title('Sepal Width')\n",
        "\n",
        "# Plot histogram for petal length\n",
        "axs[1, 0].hist(setosa_data['petal_length'], bins=20, color='green')\n",
        "axs[1, 0].set_title('Petal Length')\n",
        "\n",
        "# Plot histogram for petal width\n",
        "axs[1, 1].hist(setosa_data['petal_width'], bins=20, color='gold')\n",
        "axs[1, 1].set_title('Petal Width')\n",
        "\n",
        "# Remove top and right spines\n",
        "for ax in axs.flat:\n",
        "    ax.spines[['top', 'right']].set_visible(False)\n",
        "\n",
        "# Adjust layout\n",
        "plt.tight_layout()\n",
        "\n",
        "# Show the plot\n",
        "plt.show()"
      ],
      "metadata": {
        "colab": {
          "base_uri": "https://localhost:8080/",
          "height": 807
        },
        "id": "ZyY3IUGI2qsx",
        "outputId": "692375a8-fe8f-4884-992c-d3c52505e62b"
      },
      "id": "ZyY3IUGI2qsx",
      "execution_count": null,
      "outputs": [
        {
          "output_type": "display_data",
          "data": {
            "text/plain": [
              "<Figure size 1200x800 with 4 Axes>"
            ],
            "image/png": "[encoded data removed]"
          },
          "metadata": {}
        }
      ]
    },
    {
      "cell_type": "code",
      "execution_count": null,
      "id": "2bfb2e3c",
      "metadata": {
        "_uuid": "c8d7fb82fee951dcd40f58c47ba24594e8f164bd",
        "execution": {
          "iopub.execute_input": "2021-10-26T13:17:09.673765Z",
          "iopub.status.busy": "2021-10-26T13:17:09.672734Z",
          "iopub.status.idle": "2021-10-26T13:17:09.690284Z",
          "shell.execute_reply": "2021-10-26T13:17:09.690803Z",
          "shell.execute_reply.started": "2021-10-26T13:14:47.995595Z"
        },
        "papermill": {
          "duration": 0.053517,
          "end_time": "2021-10-26T13:17:09.691016",
          "exception": false,
          "start_time": "2021-10-26T13:17:09.637499",
          "status": "completed"
        },
        "tags": [],
        "id": "2bfb2e3c",
        "outputId": "3160ac94-fc8d-44c6-c954-22f3c5f03d0b",
        "colab": {
          "base_uri": "https://localhost:8080/"
        }
      },
      "outputs": [
        {
          "output_type": "stream",
          "name": "stdout",
          "text": [
            "<class 'pandas.core.frame.DataFrame'>\n",
            "RangeIndex: 105 entries, 0 to 104\n",
            "Data columns (total 5 columns):\n",
            " #   Column        Non-Null Count  Dtype  \n",
            "---  ------        --------------  -----  \n",
            " 0   sepal_length  105 non-null    float64\n",
            " 1   sepal_width   105 non-null    float64\n",
            " 2   petal_length  105 non-null    float64\n",
            " 3   petal_width   105 non-null    float64\n",
            " 4   species       105 non-null    object \n",
            "dtypes: float64(4), object(1)\n",
            "memory usage: 4.2+ KB\n"
          ]
        }
      ],
      "source": [
        "data.info()"
      ]
    },
    {
      "cell_type": "code",
      "execution_count": null,
      "id": "ab672af7",
      "metadata": {
        "_uuid": "aab06042e6f6b9be88ad8d47cd3c560e209807c9",
        "execution": {
          "iopub.execute_input": "2021-10-26T13:17:09.765442Z",
          "iopub.status.busy": "2021-10-26T13:17:09.764717Z",
          "iopub.status.idle": "2021-10-26T13:17:09.779810Z",
          "shell.execute_reply": "2021-10-26T13:17:09.780442Z",
          "shell.execute_reply.started": "2021-10-26T13:14:48.014331Z"
        },
        "papermill": {
          "duration": 0.056992,
          "end_time": "2021-10-26T13:17:09.780619",
          "exception": false,
          "start_time": "2021-10-26T13:17:09.723627",
          "status": "completed"
        },
        "tags": [],
        "id": "ab672af7",
        "outputId": "49d109d4-71fc-4c72-eeab-8fab69cad772",
        "colab": {
          "base_uri": "https://localhost:8080/",
          "height": 300
        }
      },
      "outputs": [
        {
          "output_type": "execute_result",
          "data": {
            "text/plain": [
              "       sepal_length  sepal_width  petal_length  petal_width\n",
              "count    105.000000   105.000000    105.000000   105.000000\n",
              "mean       5.824762     3.086667      3.671429     1.147619\n",
              "std        0.863109     0.444208      1.839822     0.774360\n",
              "min        4.300000     2.000000      1.000000     0.100000\n",
              "25%        5.100000     2.800000      1.500000     0.300000\n",
              "50%        5.700000     3.000000      4.200000     1.300000\n",
              "75%        6.400000     3.400000      5.100000     1.800000\n",
              "max        7.900000     4.400000      6.900000     2.500000"
            ],
            "text/html": [
              "\n",
              "  <div id=\"df-feae5827-c07e-4076-ac82-ff20a6df57d7\" class=\"colab-df-container\">\n",
              "    <div>\n",
              "<style scoped>\n",
              "    .dataframe tbody tr th:only-of-type {\n",
              "        vertical-align: middle;\n",
              "    }\n",
              "\n",
              "    .dataframe tbody tr th {\n",
              "        vertical-align: top;\n",
              "    }\n",
              "\n",
              "    .dataframe thead th {\n",
              "        text-align: right;\n",
              "    }\n",
              "</style>\n",
              "<table border=\"1\" class=\"dataframe\">\n",
              "  <thead>\n",
              "    <tr style=\"text-align: right;\">\n",
              "      <th></th>\n",
              "      <th>sepal_length</th>\n",
              "      <th>sepal_width</th>\n",
              "      <th>petal_length</th>\n",
              "      <th>petal_width</th>\n",
              "    </tr>\n",
              "  </thead>\n",
              "  <tbody>\n",
              "    <tr>\n",
              "      <th>count</th>\n",
              "      <td>105.000000</td>\n",
              "      <td>105.000000</td>\n",
              "      <td>105.000000</td>\n",
              "      <td>105.000000</td>\n",
              "    </tr>\n",
              "    <tr>\n",
              "      <th>mean</th>\n",
              "      <td>5.824762</td>\n",
              "      <td>3.086667</td>\n",
              "      <td>3.671429</td>\n",
              "      <td>1.147619</td>\n",
              "    </tr>\n",
              "    <tr>\n",
              "      <th>std</th>\n",
              "      <td>0.863109</td>\n",
              "      <td>0.444208</td>\n",
              "      <td>1.839822</td>\n",
              "      <td>0.774360</td>\n",
              "    </tr>\n",
              "    <tr>\n",
              "      <th>min</th>\n",
              "      <td>4.300000</td>\n",
              "      <td>2.000000</td>\n",
              "      <td>1.000000</td>\n",
              "      <td>0.100000</td>\n",
              "    </tr>\n",
              "    <tr>\n",
              "      <th>25%</th>\n",
              "      <td>5.100000</td>\n",
              "      <td>2.800000</td>\n",
              "      <td>1.500000</td>\n",
              "      <td>0.300000</td>\n",
              "    </tr>\n",
              "    <tr>\n",
              "      <th>50%</th>\n",
              "      <td>5.700000</td>\n",
              "      <td>3.000000</td>\n",
              "      <td>4.200000</td>\n",
              "      <td>1.300000</td>\n",
              "    </tr>\n",
              "    <tr>\n",
              "      <th>75%</th>\n",
              "      <td>6.400000</td>\n",
              "      <td>3.400000</td>\n",
              "      <td>5.100000</td>\n",
              "      <td>1.800000</td>\n",
              "    </tr>\n",
              "    <tr>\n",
              "      <th>max</th>\n",
              "      <td>7.900000</td>\n",
              "      <td>4.400000</td>\n",
              "      <td>6.900000</td>\n",
              "      <td>2.500000</td>\n",
              "    </tr>\n",
              "  </tbody>\n",
              "</table>\n",
              "</div>\n",
              "    <div class=\"colab-df-buttons\">\n",
              "\n",
              "  <div class=\"colab-df-container\">\n",
              "    <button class=\"colab-df-convert\" onclick=\"convertToInteractive('df-feae5827-c07e-4076-ac82-ff20a6df57d7')\"\n",
              "            title=\"Convert this dataframe to an interactive table.\"\n",
              "            style=\"display:none;\">\n",
              "\n",
              "  <svg xmlns=\"http://www.w3.org/2000/svg\" height=\"24px\" viewBox=\"0 -960 960 960\">\n",
              "    <path d=\"M120-120v-720h720v720H120Zm60-500h600v-160H180v160Zm220 220h160v-160H400v160Zm0 220h160v-160H400v160ZM180-400h160v-160H180v160Zm440 0h160v-160H620v160ZM180-180h160v-160H180v160Zm440 0h160v-160H620v160Z\"/>\n",
              "  </svg>\n",
              "    </button>\n",
              "\n",
              "  <style>\n",
              "    .colab-df-container {\n",
              "      display:flex;\n",
              "      gap: 12px;\n",
              "    }\n",
              "\n",
              "    .colab-df-convert {\n",
              "      background-color: #E8F0FE;\n",
              "      border: none;\n",
              "      border-radius: 50%;\n",
              "      cursor: pointer;\n",
              "      display: none;\n",
              "      fill: #1967D2;\n",
              "      height: 32px;\n",
              "      padding: 0 0 0 0;\n",
              "      width: 32px;\n",
              "    }\n",
              "\n",
              "    .colab-df-convert:hover {\n",
              "      background-color: #E2EBFA;\n",
              "      box-shadow: 0px 1px 2px rgba(60, 64, 67, 0.3), 0px 1px 3px 1px rgba(60, 64, 67, 0.15);\n",
              "      fill: #174EA6;\n",
              "    }\n",
              "\n",
              "    .colab-df-buttons div {\n",
              "      margin-bottom: 4px;\n",
              "    }\n",
              "\n",
              "    [theme=dark] .colab-df-convert {\n",
              "      background-color: #3B4455;\n",
              "      fill: #D2E3FC;\n",
              "    }\n",
              "\n",
              "    [theme=dark] .colab-df-convert:hover {\n",
              "      background-color: #434B5C;\n",
              "      box-shadow: 0px 1px 3px 1px rgba(0, 0, 0, 0.15);\n",
              "      filter: drop-shadow(0px 1px 2px rgba(0, 0, 0, 0.3));\n",
              "      fill: #FFFFFF;\n",
              "    }\n",
              "  </style>\n",
              "\n",
              "    <script>\n",
              "      const buttonEl =\n",
              "        document.querySelector('#df-feae5827-c07e-4076-ac82-ff20a6df57d7 button.colab-df-convert');\n",
              "      buttonEl.style.display =\n",
              "        google.colab.kernel.accessAllowed ? 'block' : 'none';\n",
              "\n",
              "      async function convertToInteractive(key) {\n",
              "        const element = document.querySelector('#df-feae5827-c07e-4076-ac82-ff20a6df57d7');\n",
              "        const dataTable =\n",
              "          await google.colab.kernel.invokeFunction('convertToInteractive',\n",
              "                                                    [key], {});\n",
              "        if (!dataTable) return;\n",
              "\n",
              "        const docLinkHtml = 'Like what you see? Visit the ' +\n",
              "          '<a target=\"_blank\" href=https://colab.research.google.com/notebooks/data_table.ipynb>data table notebook</a>'\n",
              "          + ' to learn more about interactive tables.';\n",
              "        element.innerHTML = '';\n",
              "        dataTable['output_type'] = 'display_data';\n",
              "        await google.colab.output.renderOutput(dataTable, element);\n",
              "        const docLink = document.createElement('div');\n",
              "        docLink.innerHTML = docLinkHtml;\n",
              "        element.appendChild(docLink);\n",
              "      }\n",
              "    </script>\n",
              "  </div>\n",
              "\n",
              "\n",
              "<div id=\"df-6c830479-1c37-4551-bcb3-368cc79ac41c\">\n",
              "  <button class=\"colab-df-quickchart\" onclick=\"quickchart('df-6c830479-1c37-4551-bcb3-368cc79ac41c')\"\n",
              "            title=\"Suggest charts\"\n",
              "            style=\"display:none;\">\n",
              "\n",
              "<svg xmlns=\"http://www.w3.org/2000/svg\" height=\"24px\"viewBox=\"0 0 24 24\"\n",
              "     width=\"24px\">\n",
              "    <g>\n",
              "        <path d=\"M19 3H5c-1.1 0-2 .9-2 2v14c0 1.1.9 2 2 2h14c1.1 0 2-.9 2-2V5c0-1.1-.9-2-2-2zM9 17H7v-7h2v7zm4 0h-2V7h2v10zm4 0h-2v-4h2v4z\"/>\n",
              "    </g>\n",
              "</svg>\n",
              "  </button>\n",
              "\n",
              "<style>\n",
              "  .colab-df-quickchart {\n",
              "      --bg-color: #E8F0FE;\n",
              "      --fill-color: #1967D2;\n",
              "      --hover-bg-color: #E2EBFA;\n",
              "      --hover-fill-color: #174EA6;\n",
              "      --disabled-fill-color: #AAA;\n",
              "      --disabled-bg-color: #DDD;\n",
              "  }\n",
              "\n",
              "  [theme=dark] .colab-df-quickchart {\n",
              "      --bg-color: #3B4455;\n",
              "      --fill-color: #D2E3FC;\n",
              "      --hover-bg-color: #434B5C;\n",
              "      --hover-fill-color: #FFFFFF;\n",
              "      --disabled-bg-color: #3B4455;\n",
              "      --disabled-fill-color: #666;\n",
              "  }\n",
              "\n",
              "  .colab-df-quickchart {\n",
              "    background-color: var(--bg-color);\n",
              "    border: none;\n",
              "    border-radius: 50%;\n",
              "    cursor: pointer;\n",
              "    display: none;\n",
              "    fill: var(--fill-color);\n",
              "    height: 32px;\n",
              "    padding: 0;\n",
              "    width: 32px;\n",
              "  }\n",
              "\n",
              "  .colab-df-quickchart:hover {\n",
              "    background-color: var(--hover-bg-color);\n",
              "    box-shadow: 0 1px 2px rgba(60, 64, 67, 0.3), 0 1px 3px 1px rgba(60, 64, 67, 0.15);\n",
              "    fill: var(--button-hover-fill-color);\n",
              "  }\n",
              "\n",
              "  .colab-df-quickchart-complete:disabled,\n",
              "  .colab-df-quickchart-complete:disabled:hover {\n",
              "    background-color: var(--disabled-bg-color);\n",
              "    fill: var(--disabled-fill-color);\n",
              "    box-shadow: none;\n",
              "  }\n",
              "\n",
              "  .colab-df-spinner {\n",
              "    border: 2px solid var(--fill-color);\n",
              "    border-color: transparent;\n",
              "    border-bottom-color: var(--fill-color);\n",
              "    animation:\n",
              "      spin 1s steps(1) infinite;\n",
              "  }\n",
              "\n",
              "  @keyframes spin {\n",
              "    0% {\n",
              "      border-color: transparent;\n",
              "      border-bottom-color: var(--fill-color);\n",
              "      border-left-color: var(--fill-color);\n",
              "    }\n",
              "    20% {\n",
              "      border-color: transparent;\n",
              "      border-left-color: var(--fill-color);\n",
              "      border-top-color: var(--fill-color);\n",
              "    }\n",
              "    30% {\n",
              "      border-color: transparent;\n",
              "      border-left-color: var(--fill-color);\n",
              "      border-top-color: var(--fill-color);\n",
              "      border-right-color: var(--fill-color);\n",
              "    }\n",
              "    40% {\n",
              "      border-color: transparent;\n",
              "      border-right-color: var(--fill-color);\n",
              "      border-top-color: var(--fill-color);\n",
              "    }\n",
              "    60% {\n",
              "      border-color: transparent;\n",
              "      border-right-color: var(--fill-color);\n",
              "    }\n",
              "    80% {\n",
              "      border-color: transparent;\n",
              "      border-right-color: var(--fill-color);\n",
              "      border-bottom-color: var(--fill-color);\n",
              "    }\n",
              "    90% {\n",
              "      border-color: transparent;\n",
              "      border-bottom-color: var(--fill-color);\n",
              "    }\n",
              "  }\n",
              "</style>\n",
              "\n",
              "  <script>\n",
              "    async function quickchart(key) {\n",
              "      const quickchartButtonEl =\n",
              "        document.querySelector('#' + key + ' button');\n",
              "      quickchartButtonEl.disabled = true;  // To prevent multiple clicks.\n",
              "      quickchartButtonEl.classList.add('colab-df-spinner');\n",
              "      try {\n",
              "        const charts = await google.colab.kernel.invokeFunction(\n",
              "            'suggestCharts', [key], {});\n",
              "      } catch (error) {\n",
              "        console.error('Error during call to suggestCharts:', error);\n",
              "      }\n",
              "      quickchartButtonEl.classList.remove('colab-df-spinner');\n",
              "      quickchartButtonEl.classList.add('colab-df-quickchart-complete');\n",
              "    }\n",
              "    (() => {\n",
              "      let quickchartButtonEl =\n",
              "        document.querySelector('#df-6c830479-1c37-4551-bcb3-368cc79ac41c button');\n",
              "      quickchartButtonEl.style.display =\n",
              "        google.colab.kernel.accessAllowed ? 'block' : 'none';\n",
              "    })();\n",
              "  </script>\n",
              "</div>\n",
              "\n",
              "    </div>\n",
              "  </div>\n"
            ],
            "application/vnd.google.colaboratory.intrinsic+json": {
              "type": "dataframe",
              "summary": "{\n  \"name\": \"data\",\n  \"rows\": 8,\n  \"fields\": [\n    {\n      \"column\": \"sepal_length\",\n      \"properties\": {\n        \"dtype\": \"number\",\n        \"std\": 35.35899436930596,\n        \"min\": 0.8631094226445889,\n        \"max\": 105.0,\n        \"num_unique_values\": 8,\n        \"samples\": [\n          5.824761904761904,\n          5.7,\n          105.0\n        ],\n        \"semantic_type\": \"\",\n        \"description\": \"\"\n      }\n    },\n    {\n      \"column\": \"sepal_width\",\n      \"properties\": {\n        \"dtype\": \"number\",\n        \"std\": 36.175022132729275,\n        \"min\": 0.4442077361106094,\n        \"max\": 105.0,\n        \"num_unique_values\": 8,\n        \"samples\": [\n          3.086666666666667,\n          3.0,\n          105.0\n        ],\n        \"semantic_type\": \"\",\n        \"description\": \"\"\n      }\n    },\n    {\n      \"column\": \"petal_length\",\n      \"properties\": {\n        \"dtype\": \"number\",\n        \"std\": 35.955192200006046,\n        \"min\": 1.0,\n        \"max\": 105.0,\n        \"num_unique_values\": 8,\n        \"samples\": [\n          3.6714285714285713,\n          4.2,\n          105.0\n        ],\n        \"semantic_type\": \"\",\n        \"description\": \"\"\n      }\n    },\n    {\n      \"column\": \"petal_width\",\n      \"properties\": {\n        \"dtype\": \"number\",\n        \"std\": 36.731214807975384,\n        \"min\": 0.1,\n        \"max\": 105.0,\n        \"num_unique_values\": 8,\n        \"samples\": [\n          1.1476190476190475,\n          1.3,\n          105.0\n        ],\n        \"semantic_type\": \"\",\n        \"description\": \"\"\n      }\n    }\n  ]\n}"
            }
          },
          "metadata": {},
          "execution_count": 13
        }
      ],
      "source": [
        "data.describe()"
      ]
    },
    {
      "cell_type": "markdown",
      "source": [
        "Analysis and obeservations:\n"
      ],
      "metadata": {
        "id": "FEAp794iAiQN"
      },
      "id": "FEAp794iAiQN"
    },
    {
      "cell_type": "code",
      "source": [
        "from sklearn.datasets import load_iris\n",
        "iris = load_iris()\n",
        "X = iris.data\n",
        "y = iris.target"
      ],
      "metadata": {
        "id": "-aY9a70hLkye"
      },
      "id": "-aY9a70hLkye",
      "execution_count": null,
      "outputs": []
    }
  ],
  "metadata": {
    "kernelspec": {
      "display_name": "Python 3",
      "name": "python3"
    },
    "language_info": {
      "codemirror_mode": {
        "name": "ipython",
        "version": 3
      },
      "file_extension": ".py",
      "mimetype": "text/x-python",
      "name": "python",
      "nbconvert_exporter": "python",
      "pygments_lexer": "ipython3",
      "version": "3.7.10"
    },
    "papermill": {
      "default_parameters": {},
      "duration": 25.680582,
      "end_time": "2021-10-26T13:17:24.099593",
      "environment_variables": {},
      "exception": null,
      "input_path": "__notebook__.ipynb",
      "output_path": "__notebook__.ipynb",
      "parameters": {},
      "start_time": "2021-10-26T13:16:58.419011",
      "version": "2.3.3"
    },
    "colab": {
      "provenance": [],
      "gpuType": "T4"
    },
    "accelerator": "GPU"
  },
  "nbformat": 4,
  "nbformat_minor": 5
}